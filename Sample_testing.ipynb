{
 "cells": [
  {
   "cell_type": "markdown",
   "id": "3d401b7d-4f54-438e-ae76-5096c9843216",
   "metadata": {},
   "source": [
    "This notebook is to test different sampling methods."
   ]
  },
  {
   "cell_type": "code",
   "execution_count": 8,
   "id": "36767c2c-1c5f-46d3-a786-d34fb112b6b0",
   "metadata": {},
   "outputs": [],
   "source": [
    "import numpy.random as rand\n",
    "import math\n",
    "import timeit"
   ]
  },
  {
   "cell_type": "markdown",
   "id": "9d13ef4e-283e-4af7-b17f-0117847173f1",
   "metadata": {},
   "source": [
    "# Monte Carlo Simulation"
   ]
  },
  {
   "cell_type": "code",
   "execution_count": 24,
   "id": "71590cd5-0450-431a-8857-d81222395d77",
   "metadata": {},
   "outputs": [],
   "source": [
    "## Example of a Square with sides of 2 with a circle inside with a radius of 1. Simulation is a simple example of\n",
    "## Monte Carlo Simulation where we throw a dart into the square and ask what the probability of getting in the cirle.\n",
    "## The probability of getting into the circle is the area of the circle divided by the area of the square.\n",
    "## Area of the cirlce is pi * r^2 == pi * 1^2 == pi\n",
    "## Area of the square is 2 * 2 == 4\n",
    "## Probability of hiting the cirlce is pi / 4\n",
    "\n",
    "def traditional_method():\n",
    "    return math.pi / 4\n",
    "\n",
    "# Code for the Monte Carlo Simulation\n",
    "def mc_method():\n",
    "    N = 1_000_000\n",
    "    circ = 0\n",
    "\n",
    "    for i in range(0,N):\n",
    "        x = rand.uniform(-1,1)\n",
    "        y = rand.uniform(-1,1)\n",
    "        if x**2 + y**2 <= 1:\n",
    "            circ +=1\n",
    "    mc_prob = circ / N\n",
    "    return mc_prob"
   ]
  },
  {
   "cell_type": "code",
   "execution_count": 33,
   "id": "87ff438e-c188-46fc-b281-95d53ee56da4",
   "metadata": {},
   "outputs": [
    {
     "name": "stdout",
     "output_type": "stream",
     "text": [
      "<function traditional_method at 0x0000018473BB04C0>\n",
      "CPU times: total: 0 ns\n",
      "Wall time: 0 ns\n"
     ]
    }
   ],
   "source": [
    "%%time\n",
    "print(traditional_method)"
   ]
  },
  {
   "cell_type": "code",
   "execution_count": 30,
   "id": "7d4fd0e9-f2ac-44ce-a3a7-10a9715591b2",
   "metadata": {},
   "outputs": [
    {
     "name": "stdout",
     "output_type": "stream",
     "text": [
      "0.785017\n",
      "CPU times: total: 4.84 s\n",
      "Wall time: 4.95 s\n"
     ]
    }
   ],
   "source": [
    "%%time\n",
    "print(mc_method())"
   ]
  },
  {
   "cell_type": "code",
   "execution_count": null,
   "id": "de972a23-330d-4f42-af56-98db5048b440",
   "metadata": {},
   "outputs": [],
   "source": []
  }
 ],
 "metadata": {
  "kernelspec": {
   "display_name": "Python 3 (ipykernel)",
   "language": "python",
   "name": "python3"
  },
  "language_info": {
   "codemirror_mode": {
    "name": "ipython",
    "version": 3
   },
   "file_extension": ".py",
   "mimetype": "text/x-python",
   "name": "python",
   "nbconvert_exporter": "python",
   "pygments_lexer": "ipython3",
   "version": "3.10.5"
  }
 },
 "nbformat": 4,
 "nbformat_minor": 5
}
