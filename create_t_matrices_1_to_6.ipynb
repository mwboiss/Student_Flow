{
 "cells": [
  {
   "cell_type": "code",
   "execution_count": 1,
   "id": "0f85cbab-843e-44df-9717-f334456d5846",
   "metadata": {},
   "outputs": [],
   "source": [
    "import pandas as pd\n",
    "import numpy as np\n",
    "from copy import deepcopy\n",
    "\n",
    "import scipy.linalg as la\n",
    "\n",
    "import matplotlib.pyplot as plt\n",
    "import seaborn as sns\n",
    "\n",
    "import functions_wrangle as fw\n",
    "import functions_transition_matrix as ftm\n",
    "import functions_grad_rate as fgr\n",
    "\n",
    "import warnings\n",
    "warnings.filterwarnings('ignore')\n",
    "\n",
    "pd.options.display.max_columns = None"
   ]
  },
  {
   "cell_type": "markdown",
   "id": "c6abc6fa-f2ee-4f11-b616-cde034d681c4",
   "metadata": {},
   "source": [
    "Take in the overall DataFrame and by cohort create 6 transition matrices for every year of a cohorts 6 years to the six year rate"
   ]
  },
  {
   "cell_type": "code",
   "execution_count": 2,
   "id": "db17dcc6-9efc-4add-926f-0005e6f3aa05",
   "metadata": {},
   "outputs": [
    {
     "name": "stdout",
     "output_type": "stream",
     "text": [
      "201150_cohort Number of First Time Full Time Students: 1691\n",
      "None\n",
      "201250_cohort Number of First Time Full Time Students: 1621\n",
      "None\n",
      "201350_cohort Number of First Time Full Time Students: 1624\n",
      "None\n",
      "201450_cohort Number of First Time Full Time Students: 1688\n",
      "None\n",
      "201550_cohort Number of First Time Full Time Students: 1569\n",
      "None\n",
      "201650_cohort Number of First Time Full Time Students: 1881\n",
      "None\n",
      "201750_cohort Number of First Time Full Time Students: 2194\n",
      "None\n",
      "201850_cohort Number of First Time Full Time Students: 2125\n",
      "None\n",
      "Total Credit Count: (14393, 34)\n"
     ]
    }
   ],
   "source": [
    "credit_df = fw.credit_combine_all_df()"
   ]
  },
  {
   "cell_type": "markdown",
   "id": "e9f20a2b-25bf-46df-ae98-2415a3896b85",
   "metadata": {},
   "source": [
    "# Cohort 11 Year 1 - 7 (2011-2017) State counts"
   ]
  },
  {
   "cell_type": "markdown",
   "id": "b99511f8-8237-4993-b725-f99fbf304b73",
   "metadata": {},
   "source": [
    "## Cohort 11 Year 1 (2011)"
   ]
  },
  {
   "cell_type": "code",
   "execution_count": 54,
   "id": "c5425dd3-f291-453a-aa02-01c7fe9592cd",
   "metadata": {},
   "outputs": [
    {
     "data": {
      "text/plain": [
       "201150           201230            \n",
       "Fall_Freshman_1  Spring_Freshman_1     0.604967\n",
       "                 Dropped_Out           0.136014\n",
       "                 Spring_Freshman_2     0.130101\n",
       "                 Spring_Sabbatical     0.070373\n",
       "                 Transferred_Out       0.028386\n",
       "                 Spring_Sophomore_1    0.020106\n",
       "                 Spring_Sophomore_2    0.005914\n",
       "                 Spring_Junior_1       0.002957\n",
       "                 Spring_Junior_2       0.001183\n",
       "dtype: float64"
      ]
     },
     "execution_count": 54,
     "metadata": {},
     "output_type": "execute_result"
    }
   ],
   "source": [
    "credit_df.loc[94308:914822,'201150':'201230'].value_counts(normalize=True)"
   ]
  },
  {
   "cell_type": "code",
   "execution_count": 56,
   "id": "25896719-d59e-47da-b7e5-3184274e0624",
   "metadata": {},
   "outputs": [
    {
     "data": {
      "text/plain": [
       "201230              201240            \n",
       "Dropped_Out         Dropped_Out           0.136014\n",
       "Spring_Freshman_1   Dropped_Out           0.002957\n",
       "                    Summer_Freshman_1     0.014784\n",
       "                    Summer_Freshman_2     0.053814\n",
       "                    Summer_Sabbatical     0.526907\n",
       "                    Summer_Sophomore_1    0.001183\n",
       "                    Transferred_Out       0.005322\n",
       "Spring_Freshman_2   Summer_Freshman_2     0.004731\n",
       "                    Summer_Sabbatical     0.107629\n",
       "                    Summer_Sophomore_1    0.014784\n",
       "                    Transferred_Out       0.002957\n",
       "Spring_Junior_1     Summer_Junior_2       0.001183\n",
       "                    Summer_Sabbatical     0.001774\n",
       "Spring_Junior_2     Summer_Sabbatical     0.000591\n",
       "                    Summer_Senior_1       0.000591\n",
       "Spring_Sabbatical   Dropped_Out           0.001183\n",
       "                    Summer_Freshman_1     0.003548\n",
       "                    Summer_Sabbatical     0.063868\n",
       "                    Transferred_Out       0.001774\n",
       "Spring_Sophomore_1  Summer_Sabbatical     0.016558\n",
       "                    Summer_Sophomore_1    0.001183\n",
       "                    Summer_Sophomore_2    0.001774\n",
       "                    Transferred_Out       0.000591\n",
       "Spring_Sophomore_2  Summer_Junior_1       0.002957\n",
       "                    Summer_Sabbatical     0.002365\n",
       "                    Transferred_Out       0.000591\n",
       "Transferred_Out     Summer_Freshman_1     0.001183\n",
       "                    Transferred_Out       0.027203\n",
       "dtype: float64"
      ]
     },
     "execution_count": 56,
     "metadata": {},
     "output_type": "execute_result"
    }
   ],
   "source": [
    "credit_df.loc[94308:914822,'201230':'201240'].value_counts(normalize=True).sort_index()"
   ]
  },
  {
   "cell_type": "code",
   "execution_count": 61,
   "id": "2a3ffdd4-1568-4d48-8e3b-0a9309290d52",
   "metadata": {},
   "outputs": [
    {
     "data": {
      "text/plain": [
       "201240              201250          \n",
       "Dropped_Out         Dropped_Out         0.140154\n",
       "Summer_Freshman_1   Dropped_Out         0.000591\n",
       "                    Fall_Freshman_1     0.007096\n",
       "                    Fall_Freshman_2     0.007096\n",
       "                    Fall_Sabbatical     0.004140\n",
       "                    Transferred_Out     0.000591\n",
       "Summer_Freshman_2   Dropped_Out         0.000591\n",
       "                    Fall_Freshman_2     0.036665\n",
       "                    Fall_Sabbatical     0.002365\n",
       "                    Fall_Sophomore_1    0.017741\n",
       "                    Transferred_Out     0.001183\n",
       "Summer_Junior_1     Fall_Junior_1       0.002957\n",
       "Summer_Junior_2     Fall_Junior_2       0.000591\n",
       "                    Fall_Senior_1       0.000591\n",
       "Summer_Sabbatical   Dropped_Out         0.035482\n",
       "                    Fall_Freshman_1     0.080426\n",
       "                    Fall_Freshman_2     0.318155\n",
       "                    Fall_Junior_1       0.001774\n",
       "                    Fall_Junior_2       0.000591\n",
       "                    Fall_Sabbatical     0.127735\n",
       "                    Fall_Sophomore_1    0.074512\n",
       "                    Fall_Sophomore_2    0.010645\n",
       "                    Transferred_Out     0.070373\n",
       "Summer_Senior_1     Fall_Senior_1       0.000591\n",
       "Summer_Sophomore_1  Fall_Sabbatical     0.001183\n",
       "                    Fall_Sophomore_1    0.011236\n",
       "                    Fall_Sophomore_2    0.003548\n",
       "                    Transferred_Out     0.001183\n",
       "Summer_Sophomore_2  Fall_Junior_1       0.000591\n",
       "                    Fall_Sophomore_2    0.001183\n",
       "Transferred_Out     Dropped_Out         0.000591\n",
       "                    Fall_Freshman_1     0.000591\n",
       "                    Fall_Freshman_2     0.001183\n",
       "                    Fall_Sophomore_1    0.001183\n",
       "                    Fall_Sophomore_2    0.000591\n",
       "                    Transferred_Out     0.034299\n",
       "dtype: float64"
      ]
     },
     "execution_count": 61,
     "metadata": {},
     "output_type": "execute_result"
    }
   ],
   "source": [
    "credit_df.loc[94308:914822,'201240':'201250'].value_counts(normalize=True).sort_index()"
   ]
  },
  {
   "cell_type": "markdown",
   "id": "724d395a-30e8-4471-98da-f59a708cf8f1",
   "metadata": {},
   "source": [
    "## Cohort 11 Year 2 (2012)"
   ]
  },
  {
   "cell_type": "code",
   "execution_count": 52,
   "id": "28b3503f-7caf-44f8-b889-6aabd300bafa",
   "metadata": {},
   "outputs": [
    {
     "data": {
      "text/plain": [
       "Fall_Freshman_2     0.363099\n",
       "Dropped_Out         0.177410\n",
       "Fall_Sabbatical     0.135423\n",
       "Transferred_Out     0.107629\n",
       "Fall_Sophomore_1    0.104672\n",
       "Fall_Freshman_1     0.088114\n",
       "Fall_Sophomore_2    0.015967\n",
       "Fall_Junior_1       0.005322\n",
       "Fall_Junior_2       0.001183\n",
       "Fall_Senior_1       0.001183\n",
       "Name: 201250, dtype: float64"
      ]
     },
     "execution_count": 52,
     "metadata": {},
     "output_type": "execute_result"
    }
   ],
   "source": [
    "credit_df.loc[94308:914822,'201250'].value_counts(normalize=True)"
   ]
  },
  {
   "cell_type": "code",
   "execution_count": 33,
   "id": "f926b4ac-825d-485b-ac82-db9de8866214",
   "metadata": {},
   "outputs": [
    {
     "data": {
      "text/plain": [
       "Spring_Sophomore_1    436\n",
       "Dropped_Out           341\n",
       "Spring_Sabbatical     273\n",
       "Transferred_Out       230\n",
       "Spring_Freshman_2     210\n",
       "Spring_Sophomore_2    133\n",
       "Spring_Freshman_1      37\n",
       "Spring_Junior_1        19\n",
       "Spring_Junior_2        10\n",
       "Spring_Senior_1         1\n",
       "Spring_Senior_2         1\n",
       "Name: 201330, dtype: int64"
      ]
     },
     "execution_count": 33,
     "metadata": {},
     "output_type": "execute_result"
    }
   ],
   "source": [
    "credit_df.loc[94308:914822,'201330'].value_counts()"
   ]
  },
  {
   "cell_type": "code",
   "execution_count": 34,
   "id": "1bad34e4-c703-42ba-8049-bd033795bd49",
   "metadata": {},
   "outputs": [
    {
     "data": {
      "text/plain": [
       "Summer_Sabbatical     917\n",
       "Dropped_Out           346\n",
       "Transferred_Out       244\n",
       "Summer_Sophomore_2     75\n",
       "Summer_Sophomore_1     46\n",
       "Summer_Junior_1        29\n",
       "Summer_Freshman_2      18\n",
       "Summer_Freshman_1       5\n",
       "Summer_Junior_2         5\n",
       "Summer_Senior_1         4\n",
       "Summer_Senior_2         2\n",
       "Name: 201340, dtype: int64"
      ]
     },
     "execution_count": 34,
     "metadata": {},
     "output_type": "execute_result"
    }
   ],
   "source": [
    "credit_df.loc[94308:914822,'201340'].value_counts()"
   ]
  },
  {
   "cell_type": "markdown",
   "id": "c4c26c3c-d6e4-41af-ab5e-82fc5d0773e0",
   "metadata": {},
   "source": [
    "## Cohort 11 Year 3 (2013)"
   ]
  },
  {
   "cell_type": "code",
   "execution_count": 35,
   "id": "62b0c0df-cbdc-465b-a4c4-d42b223713e3",
   "metadata": {},
   "outputs": [
    {
     "data": {
      "text/plain": [
       "Dropped_Out         378\n",
       "Transferred_Out     314\n",
       "Fall_Sophomore_2    294\n",
       "Fall_Sabbatical     254\n",
       "Fall_Sophomore_1    214\n",
       "Fall_Junior_1       120\n",
       "Fall_Freshman_2      71\n",
       "Fall_Junior_2        18\n",
       "Fall_Freshman_1      14\n",
       "Fall_Senior_1        10\n",
       "Fall_Senior_2         4\n",
       "Name: 201350, dtype: int64"
      ]
     },
     "execution_count": 35,
     "metadata": {},
     "output_type": "execute_result"
    }
   ],
   "source": [
    "credit_df.loc[94308:914822,'201350'].value_counts()"
   ]
  },
  {
   "cell_type": "code",
   "execution_count": 36,
   "id": "ff1cf456-fac3-41d4-88c1-bdc5de17de49",
   "metadata": {},
   "outputs": [
    {
     "data": {
      "text/plain": [
       "Dropped_Out           400\n",
       "Transferred_Out       338\n",
       "Spring_Sabbatical     247\n",
       "Spring_Junior_1       235\n",
       "Spring_Sophomore_2    195\n",
       "Spring_Sophomore_1    108\n",
       "Spring_Junior_2        95\n",
       "Spring_Freshman_2      36\n",
       "Spring_Senior_1        18\n",
       "Spring_Freshman_1       8\n",
       "Graduated               6\n",
       "Spring_Senior_2         5\n",
       "Name: 201430, dtype: int64"
      ]
     },
     "execution_count": 36,
     "metadata": {},
     "output_type": "execute_result"
    }
   ],
   "source": [
    "credit_df.loc[94308:914822,'201430'].value_counts()"
   ]
  },
  {
   "cell_type": "code",
   "execution_count": 37,
   "id": "6e88102b-f1f0-43d3-92a7-69c6a6fb4131",
   "metadata": {},
   "outputs": [
    {
     "data": {
      "text/plain": [
       "Summer_Sabbatical     712\n",
       "Dropped_Out           407\n",
       "Transferred_Out       338\n",
       "Summer_Junior_2        79\n",
       "Summer_Junior_1        50\n",
       "Summer_Senior_1        46\n",
       "Summer_Sophomore_2     27\n",
       "Summer_Sophomore_1     10\n",
       "Summer_Senior_2         8\n",
       "Summer_Freshman_2       8\n",
       "Graduated               6\n",
       "Name: 201440, dtype: int64"
      ]
     },
     "execution_count": 37,
     "metadata": {},
     "output_type": "execute_result"
    }
   ],
   "source": [
    "credit_df.loc[94308:914822,'201440'].value_counts()"
   ]
  },
  {
   "cell_type": "markdown",
   "id": "c92360ed-6b6f-40f3-82f1-a6a882848cd6",
   "metadata": {},
   "source": [
    "## Cohort 11 Year 4 (2014)"
   ]
  },
  {
   "cell_type": "code",
   "execution_count": 38,
   "id": "b2b0eb04-68b1-46ff-aff2-75fc9a465589",
   "metadata": {},
   "outputs": [
    {
     "data": {
      "text/plain": [
       "Dropped_Out         438\n",
       "Transferred_Out     384\n",
       "Fall_Sabbatical     219\n",
       "Fall_Junior_2       173\n",
       "Fall_Junior_1       161\n",
       "Fall_Sophomore_2    107\n",
       "Fall_Senior_1        93\n",
       "Fall_Sophomore_1     42\n",
       "Fall_Senior_2        25\n",
       "Graduated            23\n",
       "Fall_Freshman_2      19\n",
       "Fall_Freshman_1       7\n",
       "Name: 201450, dtype: int64"
      ]
     },
     "execution_count": 38,
     "metadata": {},
     "output_type": "execute_result"
    }
   ],
   "source": [
    "credit_df.loc[94308:914822,'201450'].value_counts()"
   ]
  },
  {
   "cell_type": "code",
   "execution_count": 39,
   "id": "1ada129b-2845-418a-bc6f-d5efaa3ed717",
   "metadata": {},
   "outputs": [
    {
     "data": {
      "text/plain": [
       "Dropped_Out           460\n",
       "Transferred_Out       397\n",
       "Spring_Sabbatical     203\n",
       "Spring_Senior_1       140\n",
       "Spring_Junior_2       134\n",
       "Spring_Junior_1       106\n",
       "Graduated             103\n",
       "Spring_Sophomore_2     59\n",
       "Spring_Senior_2        46\n",
       "Spring_Sophomore_1     26\n",
       "Spring_Freshman_2      12\n",
       "Spring_Freshman_1       5\n",
       "Name: 201530, dtype: int64"
      ]
     },
     "execution_count": 39,
     "metadata": {},
     "output_type": "execute_result"
    }
   ],
   "source": [
    "credit_df.loc[94308:914822,'201530'].value_counts()"
   ]
  },
  {
   "cell_type": "code",
   "execution_count": 40,
   "id": "af7907ff-feea-416a-89a0-03d88f81ddbe",
   "metadata": {},
   "outputs": [
    {
     "data": {
      "text/plain": [
       "Summer_Sabbatical     505\n",
       "Dropped_Out           465\n",
       "Transferred_Out       401\n",
       "Graduated             123\n",
       "Summer_Senior_1        58\n",
       "Summer_Senior_2        51\n",
       "Summer_Junior_2        49\n",
       "Summer_Junior_1        20\n",
       "Summer_Sophomore_2     10\n",
       "Summer_Sophomore_1      7\n",
       "Summer_Freshman_1       1\n",
       "Summer_Freshman_2       1\n",
       "Name: 201540, dtype: int64"
      ]
     },
     "execution_count": 40,
     "metadata": {},
     "output_type": "execute_result"
    }
   ],
   "source": [
    "credit_df.loc[94308:914822,'201540'].value_counts()"
   ]
  },
  {
   "cell_type": "markdown",
   "id": "d738138d-b1fa-4e6f-980c-ac4f11d809a6",
   "metadata": {},
   "source": [
    "## Cohort 11 Year 5 (2015)"
   ]
  },
  {
   "cell_type": "code",
   "execution_count": 41,
   "id": "066a5070-7b25-4182-a630-99b04064acf7",
   "metadata": {},
   "outputs": [
    {
     "data": {
      "text/plain": [
       "Dropped_Out         482\n",
       "Transferred_Out     420\n",
       "Graduated           222\n",
       "Fall_Sabbatical     169\n",
       "Fall_Senior_1       112\n",
       "Fall_Junior_2        87\n",
       "Fall_Senior_2        69\n",
       "Fall_Junior_1        62\n",
       "Fall_Sophomore_2     35\n",
       "Fall_Sophomore_1     15\n",
       "Fall_Freshman_2      11\n",
       "Fall_Freshman_1       7\n",
       "Name: 201550, dtype: int64"
      ]
     },
     "execution_count": 41,
     "metadata": {},
     "output_type": "execute_result"
    }
   ],
   "source": [
    "credit_df.loc[94308:914822,'201550'].value_counts()"
   ]
  },
  {
   "cell_type": "code",
   "execution_count": 42,
   "id": "0de71208-3d9c-49a3-8d01-99a162ac94ff",
   "metadata": {},
   "outputs": [
    {
     "data": {
      "text/plain": [
       "Dropped_Out           493\n",
       "Transferred_Out       424\n",
       "Graduated             304\n",
       "Spring_Sabbatical     164\n",
       "Spring_Senior_1        79\n",
       "Spring_Senior_2        79\n",
       "Spring_Junior_2        63\n",
       "Spring_Junior_1        42\n",
       "Spring_Sophomore_2     22\n",
       "Spring_Sophomore_1     12\n",
       "Spring_Freshman_2       7\n",
       "Spring_Freshman_1       2\n",
       "Name: 201630, dtype: int64"
      ]
     },
     "execution_count": 42,
     "metadata": {},
     "output_type": "execute_result"
    }
   ],
   "source": [
    "credit_df.loc[94308:914822,'201630'].value_counts()"
   ]
  },
  {
   "cell_type": "code",
   "execution_count": 43,
   "id": "aeae663d-ad7b-4b28-9f99-4edc8536b031",
   "metadata": {},
   "outputs": [
    {
     "data": {
      "text/plain": [
       "Dropped_Out           496\n",
       "Transferred_Out       423\n",
       "Summer_Sabbatical     341\n",
       "Graduated             323\n",
       "Summer_Senior_2        43\n",
       "Summer_Senior_1        22\n",
       "Summer_Junior_2        18\n",
       "Summer_Junior_1        12\n",
       "Summer_Sophomore_2      8\n",
       "Summer_Freshman_2       3\n",
       "Summer_Sophomore_1      1\n",
       "Summer_Freshman_1       1\n",
       "Name: 201640, dtype: int64"
      ]
     },
     "execution_count": 43,
     "metadata": {},
     "output_type": "execute_result"
    }
   ],
   "source": [
    "credit_df.loc[94308:914822,'201640'].value_counts()"
   ]
  },
  {
   "cell_type": "markdown",
   "id": "00c3954b-4208-401c-87c4-614b1074e412",
   "metadata": {},
   "source": [
    "##  Cohort 11 Year 6 (2016)"
   ]
  },
  {
   "cell_type": "code",
   "execution_count": 44,
   "id": "9032e4c8-7115-4841-9872-9b6301d05ed8",
   "metadata": {},
   "outputs": [
    {
     "data": {
      "text/plain": [
       "Dropped_Out         510\n",
       "Transferred_Out     435\n",
       "Graduated           371\n",
       "Fall_Sabbatical     142\n",
       "Fall_Senior_2        81\n",
       "Fall_Senior_1        52\n",
       "Fall_Junior_2        36\n",
       "Fall_Junior_1        26\n",
       "Fall_Sophomore_2     18\n",
       "Fall_Sophomore_1     12\n",
       "Fall_Freshman_2       7\n",
       "Fall_Freshman_1       1\n",
       "Name: 201650, dtype: int64"
      ]
     },
     "execution_count": 44,
     "metadata": {},
     "output_type": "execute_result"
    }
   ],
   "source": [
    "credit_df.loc[94308:914822,'201650'].value_counts()"
   ]
  },
  {
   "cell_type": "code",
   "execution_count": 45,
   "id": "64dcf649-2fa1-4738-9d52-351f1e0a9fd8",
   "metadata": {},
   "outputs": [
    {
     "data": {
      "text/plain": [
       "Dropped_Out           525\n",
       "Transferred_Out       439\n",
       "Graduated             438\n",
       "Spring_Sabbatical     132\n",
       "Spring_Senior_2        53\n",
       "Spring_Senior_1        33\n",
       "Spring_Junior_2        26\n",
       "Spring_Sophomore_2     18\n",
       "Spring_Junior_1        15\n",
       "Spring_Sophomore_1      9\n",
       "Spring_Freshman_2       3\n",
       "Name: 201730, dtype: int64"
      ]
     },
     "execution_count": 45,
     "metadata": {},
     "output_type": "execute_result"
    }
   ],
   "source": [
    "credit_df.loc[94308:914822,'201730'].value_counts()"
   ]
  },
  {
   "cell_type": "code",
   "execution_count": 59,
   "id": "1f6c85cb-7763-44be-a648-ee30e80edd6b",
   "metadata": {},
   "outputs": [
    {
     "data": {
      "text/plain": [
       "201740              201750          \n",
       "Dropped_Out         Dropped_Out         0.312833\n",
       "Graduated           Graduated           0.266115\n",
       "Transferred_Out     Transferred_Out     0.257836\n",
       "Summer_Sabbatical   Fall_Sabbatical     0.060911\n",
       "                    Fall_Senior_2       0.013601\n",
       "                    Graduated           0.008279\n",
       "                    Fall_Junior_1       0.008279\n",
       "                    Transferred_Out     0.007688\n",
       "Summer_Senior_2     Graduated           0.007096\n",
       "Summer_Sabbatical   Fall_Senior_1       0.007096\n",
       "                    Fall_Junior_2       0.006505\n",
       "Summer_Senior_2     Fall_Senior_2       0.005322\n",
       "Summer_Senior_1     Fall_Senior_1       0.004731\n",
       "Summer_Sabbatical   Fall_Sophomore_1    0.004731\n",
       "                    Dropped_Out         0.004731\n",
       "                    Fall_Sophomore_2    0.003548\n",
       "Summer_Sophomore_2  Fall_Sophomore_2    0.002365\n",
       "Summer_Senior_1     Fall_Senior_2       0.002365\n",
       "Transferred_Out     Fall_Freshman_2     0.001774\n",
       "Summer_Junior_1     Fall_Junior_1       0.001774\n",
       "Summer_Junior_2     Fall_Senior_1       0.001774\n",
       "Summer_Sabbatical   Fall_Freshman_2     0.001183\n",
       "                    Fall_Freshman_1     0.001183\n",
       "Summer_Senior_2     Dropped_Out         0.001183\n",
       "Summer_Senior_1     Graduated           0.001183\n",
       "Summer_Junior_1     Fall_Sabbatical     0.000591\n",
       "                    Fall_Junior_2       0.000591\n",
       "Summer_Sophomore_1  Fall_Sabbatical     0.000591\n",
       "                    Fall_Sophomore_2    0.000591\n",
       "Summer_Sophomore_2  Fall_Junior_1       0.000591\n",
       "                    Fall_Sabbatical     0.000591\n",
       "Summer_Junior_2     Fall_Junior_2       0.000591\n",
       "Summer_Freshman_1   Fall_Freshman_2     0.000591\n",
       "Transferred_Out     Fall_Sophomore_2    0.000591\n",
       "Summer_Junior_1     Dropped_Out         0.000591\n",
       "dtype: float64"
      ]
     },
     "execution_count": 59,
     "metadata": {},
     "output_type": "execute_result"
    }
   ],
   "source": [
    "credit_df.loc[94308:914822,'201740':'201750'].value_counts(normalize=True)"
   ]
  },
  {
   "cell_type": "markdown",
   "id": "ef9907a4-72c2-4441-8293-46222b0d7e33",
   "metadata": {},
   "source": [
    "## Cohort 11 Year 7 (2017)"
   ]
  },
  {
   "cell_type": "code",
   "execution_count": 60,
   "id": "ac8e8c42-18c7-458a-a21b-e6767e596f8d",
   "metadata": {},
   "outputs": [
    {
     "data": {
      "text/plain": [
       "Dropped_Out         0.319338\n",
       "Graduated           0.282673\n",
       "Transferred_Out     0.265523\n",
       "Fall_Sabbatical     0.062685\n",
       "Fall_Senior_2       0.021289\n",
       "Fall_Senior_1       0.013601\n",
       "Fall_Junior_1       0.010645\n",
       "Fall_Junior_2       0.007688\n",
       "Fall_Sophomore_2    0.007096\n",
       "Fall_Sophomore_1    0.004731\n",
       "Fall_Freshman_2     0.003548\n",
       "Fall_Freshman_1     0.001183\n",
       "Name: 201750, dtype: float64"
      ]
     },
     "execution_count": 60,
     "metadata": {},
     "output_type": "execute_result"
    }
   ],
   "source": [
    "credit_df.loc[94308:914822,'201750'].value_counts(normalize=True)"
   ]
  },
  {
   "cell_type": "markdown",
   "id": "ad414e86-e8c5-451c-b825-e40bf4931f8f",
   "metadata": {},
   "source": [
    "# Create Function"
   ]
  },
  {
   "cell_type": "code",
   "execution_count": null,
   "id": "2cb2c653-b879-471f-a50d-399533ed88aa",
   "metadata": {},
   "outputs": [],
   "source": [
    "for col in df.columns:\n",
    "        # if the 6 year grad semester from the current semester exists and it is a fall semeseter then create the grad rate\n",
    "        if ((df.columns.get_loc(col) + 17) < (df.shape[1] - 1)) & (col[4:6] == '50'):\n",
    "            print(f'Cohort Start Year: {col}')\n",
    "            # save the name of the grad semester\n",
    "            grad_semester = df.columns[df.columns.get_loc(col) + 17]\n",
    "            print(f'Cohort Six Year: {grad_semester}')\n",
    "            # Get the index of the first cohort member\n",
    "            cohort_start = df.index[cohort_start_index_value]\n",
    "            print(f'Cohort First Student: {cohort_start}')\n",
    "            # get the index of the last cohort member\n",
    "            cohort_end = df[col][df[col].isna() == False].index[-1]\n",
    "            print(f'Cohort Last Student: {cohort_end}')\n",
    "            # save the value of how many students started the cohort\n",
    "            started = df.loc[cohort_start:cohort_end,col:col].shape[0]\n",
    "            print(f'Students Started: {started}')\n",
    "            # Save the value of how many of those students graduated\n",
    "            graduated = df.loc[cohort_start:cohort_end,grad_semester:grad_semester].value_counts()['Graduated']\n",
    "            print(f'Students Graduated: {graduated}')"
   ]
  },
  {
   "cell_type": "code",
   "execution_count": null,
   "id": "0032d475-5d28-42c3-b470-7a2ea548ffde",
   "metadata": {},
   "outputs": [],
   "source": [
    "def credit_t_matrices_by_year_cohort(cohort_states):\n",
    "    \"\"\"\n",
    "    This function takes in a dataframe of students and there states and returns a transition matrices by year and cohort\n",
    "    \n",
    "    \"\"\"\n",
    "    # Reassign index of both row and column to be a number range for ease of use ###### Might not use currently\n",
    "    # cohort_states = cohort_states.rename(columns={'201150':0, '201230':1, '201240':2, '201250':3, '201330':4, '201340':5, '201350':6,\n",
    "    #    '201430':7, '201440':8, '201450':9, '201530':10, '201540':11, '201550':12, '201630':13,\n",
    "    #    '201640':14, '201650':15, '201730':16, '201740':17, '201750':18, '201830':19, '201840':20,\n",
    "    #    '201850':21, '201930':22, '201940':23, '201950':24, '202030':25, '202040':26, '202050':27,\n",
    "    #    '202130':28, '202140':29, '202150':30, '202230':31})\n",
    "    # cohort_states = cohort_states.reset_index()\n",
    "    # cohort_states = cohort_states.drop(columns=['PIDM'])\n",
    "\n",
    "    # Create a dictionary of states each state could change into\n",
    "    Graduated = {'Graduated' : 0,'Transferred_Out' : 0,'Dropped_Out' : 0,\n",
    "                 'Fall_Sabbatical' : 0,\n",
    "                 'Fall_Freshman_1' : 0,'Fall_Freshman_2' : 0,\n",
    "                 'Fall_Sophomore_1' : 0,'Fall_Sophomore_2' : 0,\n",
    "                 'Fall_Junior_1' : 0,'Fall_Junior_2' : 0,\n",
    "                 'Fall_Senior_1': 0,'Fall_Senior_2': 0,\n",
    "                 'Spring_Sabbatical' : 0,\n",
    "                 'Spring_Freshman_1' : 0,'Spring_Freshman_2' : 0,\n",
    "                 'Spring_Sophomore_1' : 0,'Spring_Sophomore_2' : 0,\n",
    "                 'Spring_Junior_1' : 0,'Spring_Junior_2' : 0,\n",
    "                 'Spring_Senior_1': 0, 'Spring_Senior_2': 0,\n",
    "                 'Summer_Sabbatical' : 0,\n",
    "                 'Summer_Freshman_1' : 0,'Summer_Freshman_2' : 0,\n",
    "                 'Summer_Sophomore_1' : 0,'Summer_Sophomore_2' : 0,\n",
    "                 'Summer_Junior_1' : 0,'Summer_Junior_2' : 0,\n",
    "                 'Summer_Senior_1': 0, 'Summer_Senior_2': 0}\n",
    "\n",
    "    Transferred_Out = deepcopy(Graduated)\n",
    "    Dropped_Out = deepcopy(Graduated)\n",
    "\n",
    "    Fall_Sabbatical = deepcopy(Graduated)\n",
    "    Fall_Freshman_1 = deepcopy(Graduated)\n",
    "    Fall_Freshman_2 = deepcopy(Graduated)\n",
    "    Fall_Sophomore_1 = deepcopy(Graduated)\n",
    "    Fall_Sophomore_2 = deepcopy(Graduated)    \n",
    "    Fall_Junior_1 = deepcopy(Graduated)\n",
    "    Fall_Junior_2 = deepcopy(Graduated)\n",
    "    Fall_Senior_1 = deepcopy(Graduated)\n",
    "    Fall_Senior_2 = deepcopy(Graduated)\n",
    "\n",
    "    Spring_Sabbatical = deepcopy(Graduated)\n",
    "    Spring_Freshman_1 = deepcopy(Graduated)\n",
    "    Spring_Freshman_2 = deepcopy(Graduated)\n",
    "    Spring_Sophomore_1 = deepcopy(Graduated)\n",
    "    Spring_Sophomore_2 = deepcopy(Graduated)\n",
    "    Spring_Junior_1 = deepcopy(Graduated)\n",
    "    Spring_Junior_2 = deepcopy(Graduated)\n",
    "    Spring_Senior_1 = deepcopy(Graduated)\n",
    "    Spring_Senior_2 = deepcopy(Graduated)\n",
    "\n",
    "    Summer_Sabbatical = deepcopy(Graduated)\n",
    "    Summer_Freshman_1 = deepcopy(Graduated)\n",
    "    Summer_Freshman_2 = deepcopy(Graduated)\n",
    "    Summer_Sophomore_1 = deepcopy(Graduated)\n",
    "    Summer_Sophomore_2 = deepcopy(Graduated)\n",
    "    Summer_Junior_1 = deepcopy(Graduated)\n",
    "    Summer_Junior_2 = deepcopy(Graduated)\n",
    "    Summer_Senior_1 = deepcopy(Graduated)\n",
    "    Summer_Senior_2 = deepcopy(Graduated)\n",
    "\n",
    "    # Run through the dataframe and add 1 to every current states next state\n",
    "\n",
    "    for x in range(cohort_states.shape[0]):\n",
    "        for y in range(cohort_states.shape[1]-1):\n",
    "            if pd.isnull(cohort_states[y][x]):\n",
    "                continue\n",
    "            elif pd.isnull(cohort_states[y + 1][x]):\n",
    "                continue\n",
    "            elif cohort_states[y][x] == 'Graduated':\n",
    "                Graduated[cohort_states[y + 1][x]] += 1\n",
    "\n",
    "            elif cohort_states[y][x] == 'Transferred_Out':\n",
    "                Transferred_Out[cohort_states[y + 1][x]] += 1\n",
    "\n",
    "            elif cohort_states[y][x] == 'Dropped_Out':\n",
    "                Dropped_Out[cohort_states[y + 1][x]] += 1 \n",
    "\n",
    "            elif cohort_states[y][x] == 'Fall_Sabbatical':\n",
    "                Fall_Sabbatical[cohort_states[y + 1][x]] += 1\n",
    "\n",
    "            elif cohort_states[y][x] == 'Fall_Freshman_1':\n",
    "                Fall_Freshman_1[cohort_states[y + 1][x]] += 1\n",
    "                \n",
    "            elif cohort_states[y][x] == 'Fall_Freshman_2':\n",
    "                Fall_Freshman_2[cohort_states[y + 1][x]] += 1\n",
    "\n",
    "            elif cohort_states[y][x] == 'Fall_Sophomore_1':\n",
    "                Fall_Sophomore_1[cohort_states[y + 1][x]] += 1\n",
    "                \n",
    "            elif cohort_states[y][x] == 'Fall_Sophomore_2':\n",
    "                Fall_Sophomore_2[cohort_states[y + 1][x]] += 1\n",
    "\n",
    "            elif cohort_states[y][x] == 'Fall_Junior_1':\n",
    "                Fall_Junior_1[cohort_states[y + 1][x]] += 1\n",
    "                \n",
    "            elif cohort_states[y][x] == 'Fall_Junior_2':\n",
    "                Fall_Junior_2[cohort_states[y + 1][x]] += 1\n",
    "\n",
    "            elif cohort_states[y][x] == 'Fall_Senior_1':\n",
    "                Fall_Senior_1[cohort_states[y + 1][x]] += 1\n",
    "                \n",
    "            elif cohort_states[y][x] == 'Fall_Senior_2':\n",
    "                Fall_Senior_2[cohort_states[y + 1][x]] += 1\n",
    "\n",
    "            elif cohort_states[y][x] == 'Spring_Sabbatical':\n",
    "                Spring_Sabbatical[cohort_states[y + 1][x]] += 1\n",
    "\n",
    "            elif cohort_states[y][x] == 'Spring_Freshman_1':\n",
    "                Spring_Freshman_1[cohort_states[y + 1][x]] += 1\n",
    "            \n",
    "            elif cohort_states[y][x] == 'Spring_Freshman_2':\n",
    "                Spring_Freshman_2[cohort_states[y + 1][x]] += 1\n",
    "\n",
    "            elif cohort_states[y][x] == 'Spring_Sophomore_1':\n",
    "                Spring_Sophomore_1[cohort_states[y + 1][x]] += 1\n",
    "            \n",
    "            elif cohort_states[y][x] == 'Spring_Sophomore_2':\n",
    "                Spring_Sophomore_2[cohort_states[y + 1][x]] += 1\n",
    "\n",
    "            elif cohort_states[y][x] == 'Spring_Junior_1':\n",
    "                Spring_Junior_1[cohort_states[y + 1][x]] += 1\n",
    "            \n",
    "            elif cohort_states[y][x] == 'Spring_Junior_2':\n",
    "                Spring_Junior_2[cohort_states[y + 1][x]] += 1\n",
    "\n",
    "            elif cohort_states[y][x] == 'Spring_Senior_1':\n",
    "                Spring_Senior_1[cohort_states[y + 1][x]] += 1\n",
    "                \n",
    "            elif cohort_states[y][x] == 'Spring_Senior_2':\n",
    "                Spring_Senior_2[cohort_states[y + 1][x]] += 1\n",
    "            \n",
    "            elif cohort_states[y][x] == 'Summer_Sabbatical':\n",
    "                Summer_Sabbatical[cohort_states[y + 1][x]] += 1\n",
    "\n",
    "            elif cohort_states[y][x] == 'Summer_Freshman_1':\n",
    "                Summer_Freshman_1[cohort_states[y + 1][x]] += 1\n",
    "            \n",
    "            elif cohort_states[y][x] == 'Summer_Freshman_2':\n",
    "                Summer_Freshman_2[cohort_states[y + 1][x]] += 1\n",
    "\n",
    "            elif cohort_states[y][x] == 'Summer_Sophomore_1':\n",
    "                Summer_Sophomore_1[cohort_states[y + 1][x]] += 1\n",
    "                \n",
    "            elif cohort_states[y][x] == 'Summer_Sophomore_2':\n",
    "                Summer_Sophomore_2[cohort_states[y + 1][x]] += 1\n",
    "\n",
    "            elif cohort_states[y][x] == 'Summer_Junior_1':\n",
    "                Summer_Junior_1[cohort_states[y + 1][x]] += 1\n",
    "            \n",
    "            elif cohort_states[y][x] == 'Summer_Junior_2':\n",
    "                Summer_Junior_2[cohort_states[y + 1][x]] += 1\n",
    "\n",
    "            elif cohort_states[y][x] == 'Summer_Senior_1':\n",
    "                Summer_Senior_1[cohort_states[y + 1][x]] += 1\n",
    "            \n",
    "            elif cohort_states[y][x] == 'Summer_Senior_2':\n",
    "                Summer_Senior_2[cohort_states[y + 1][x]] += 1\n",
    "\n",
    "                # Change that value into a probability\n",
    "    Graduated_Prob = []\n",
    "    for x in Graduated.values():\n",
    "        Graduated_Prob.append(round(x / sum(Graduated.values()),4))\n",
    "\n",
    "    Transferred_Out_Prob = []\n",
    "    for x in Transferred_Out.values():\n",
    "        Transferred_Out_Prob.append(round(x / sum(Transferred_Out.values()),4))\n",
    "\n",
    "    Dropped_Out_Prob = []\n",
    "    for x in Dropped_Out.values():\n",
    "        Dropped_Out_Prob.append(round(x / sum(Dropped_Out.values()),4))\n",
    "\n",
    "    Fall_Sabbatical_Prob = []\n",
    "    for x in Fall_Sabbatical.values():\n",
    "        Fall_Sabbatical_Prob.append(round(x / sum(Fall_Sabbatical.values()),4))\n",
    "\n",
    "    Fall_Freshman_1_Prob = []\n",
    "    for x in Fall_Freshman_1.values():\n",
    "        Fall_Freshman_1_Prob.append(round(x / sum(Fall_Freshman_1.values()),4))\n",
    "    \n",
    "    Fall_Freshman_2_Prob = []\n",
    "    for x in Fall_Freshman_2.values():\n",
    "        Fall_Freshman_2_Prob.append(round(x / sum(Fall_Freshman_2.values()),4))\n",
    "\n",
    "    Fall_Sophomore_1_Prob = []\n",
    "    for x in Fall_Sophomore_1.values():\n",
    "        Fall_Sophomore_1_Prob.append(round(x / sum(Fall_Sophomore_1.values()),4))\n",
    "    \n",
    "    Fall_Sophomore_2_Prob = []\n",
    "    for x in Fall_Sophomore_2.values():\n",
    "        Fall_Sophomore_2_Prob.append(round(x / sum(Fall_Sophomore_2.values()),4))\n",
    "\n",
    "    Fall_Junior_1_Prob = []\n",
    "    for x in Fall_Junior_1.values():\n",
    "        Fall_Junior_1_Prob.append(round(x / sum(Fall_Junior_1.values()),4))\n",
    "    \n",
    "    Fall_Junior_2_Prob = []\n",
    "    for x in Fall_Junior_2.values():\n",
    "        Fall_Junior_2_Prob.append(round(x / sum(Fall_Junior_2.values()),4))\n",
    "\n",
    "    Fall_Senior_1_Prob = []\n",
    "    for x in Fall_Senior_1.values():\n",
    "        Fall_Senior_1_Prob.append(round(x / sum(Fall_Senior_1.values()),4))\n",
    "    \n",
    "    Fall_Senior_2_Prob = []\n",
    "    for x in Fall_Senior_2.values():\n",
    "        Fall_Senior_2_Prob.append(round(x / sum(Fall_Senior_2.values()),4))\n",
    "\n",
    "    Spring_Sabbatical_Prob = []\n",
    "    for x in Spring_Sabbatical.values():\n",
    "        Spring_Sabbatical_Prob.append(round(x / sum(Spring_Sabbatical.values()),4))\n",
    "\n",
    "    Spring_Freshman_1_Prob = []\n",
    "    for x in Spring_Freshman_1.values():\n",
    "        Spring_Freshman_1_Prob.append(round(x / sum(Spring_Freshman_1.values()),4))\n",
    "    \n",
    "    Spring_Freshman_2_Prob = []\n",
    "    for x in Spring_Freshman_2.values():\n",
    "        Spring_Freshman_2_Prob.append(round(x / sum(Spring_Freshman_2.values()),4))\n",
    "\n",
    "    Spring_Sophomore_1_Prob = []\n",
    "    for x in Spring_Sophomore_1.values():\n",
    "        Spring_Sophomore_1_Prob.append(round(x / sum(Spring_Sophomore_1.values()),4))\n",
    "    \n",
    "    Spring_Sophomore_2_Prob = []\n",
    "    for x in Spring_Sophomore_2.values():\n",
    "        Spring_Sophomore_2_Prob.append(round(x / sum(Spring_Sophomore_2.values()),4))\n",
    "\n",
    "    Spring_Junior_1_Prob = []\n",
    "    for x in Spring_Junior_1.values():\n",
    "        Spring_Junior_1_Prob.append(round(x / sum(Spring_Junior_1.values()),4))\n",
    "    \n",
    "    Spring_Junior_2_Prob = []\n",
    "    for x in Spring_Junior_2.values():\n",
    "        Spring_Junior_2_Prob.append(round(x / sum(Spring_Junior_2.values()),4))\n",
    "\n",
    "    Spring_Senior_1_Prob = []\n",
    "    for x in Spring_Senior_1.values():\n",
    "        Spring_Senior_1_Prob.append(round(x / sum(Spring_Senior_1.values()),4))\n",
    "    \n",
    "    Spring_Senior_2_Prob = []\n",
    "    for x in Spring_Senior_2.values():\n",
    "        Spring_Senior_2_Prob.append(round(x / sum(Spring_Senior_2.values()),4))\n",
    "\n",
    "    Summer_Sabbatical_Prob = []\n",
    "    for x in Summer_Sabbatical.values():\n",
    "        Summer_Sabbatical_Prob.append(round(x / sum(Summer_Sabbatical.values()),4))\n",
    "\n",
    "    Summer_Freshman_1_Prob = []\n",
    "    for x in Summer_Freshman_1.values():\n",
    "        Summer_Freshman_1_Prob.append(round(x / sum(Summer_Freshman_1.values()),4))\n",
    "    \n",
    "    Summer_Freshman_2_Prob = []\n",
    "    for x in Summer_Freshman_2.values():\n",
    "        Summer_Freshman_2_Prob.append(round(x / sum(Summer_Freshman_2.values()),4))\n",
    "\n",
    "    Summer_Sophomore_1_Prob = []\n",
    "    for x in Summer_Sophomore_1.values():\n",
    "        Summer_Sophomore_1_Prob.append(round(x / sum(Summer_Sophomore_1.values()),4))\n",
    "    \n",
    "    Summer_Sophomore_2_Prob = []\n",
    "    for x in Summer_Sophomore_2.values():\n",
    "        Summer_Sophomore_2_Prob.append(round(x / sum(Summer_Sophomore_2.values()),4))\n",
    "\n",
    "    Summer_Junior_1_Prob = []\n",
    "    for x in Summer_Junior_1.values():\n",
    "        Summer_Junior_1_Prob.append(round(x / sum(Summer_Junior_1.values()),4))\n",
    "    \n",
    "    Summer_Junior_2_Prob = []\n",
    "    for x in Summer_Junior_2.values():\n",
    "        Summer_Junior_2_Prob.append(round(x / sum(Summer_Junior_2.values()),4))\n",
    "\n",
    "    Summer_Senior_1_Prob = []\n",
    "    for x in Summer_Senior_1.values():\n",
    "        Summer_Senior_1_Prob.append(round(x / sum(Summer_Senior_1.values()),4))\n",
    "    \n",
    "    Summer_Senior_2_Prob = []\n",
    "    for x in Summer_Senior_2.values():\n",
    "        Summer_Senior_2_Prob.append(round(x / sum(Summer_Senior_2.values()),4))\n",
    "\n",
    "    # Transition Matrix\n",
    "    tm = np.array([Graduated_Prob,Transferred_Out_Prob,Dropped_Out_Prob,\n",
    "      Fall_Sabbatical_Prob,\n",
    "      Fall_Freshman_1_Prob,Fall_Freshman_2_Prob,\n",
    "      Fall_Sophomore_1_Prob,Fall_Sophomore_2_Prob, \n",
    "      Fall_Junior_1_Prob,Fall_Junior_2_Prob,\n",
    "      Fall_Senior_1_Prob,Fall_Senior_2_Prob,\n",
    "      Spring_Sabbatical_Prob,\n",
    "      Spring_Freshman_1_Prob,Spring_Freshman_2_Prob,\n",
    "      Spring_Sophomore_1_Prob,Spring_Sophomore_2_Prob,\n",
    "      Spring_Junior_1_Prob,Spring_Junior_2_Prob,\n",
    "      Spring_Senior_1_Prob, Spring_Senior_2_Prob,\n",
    "      Summer_Sabbatical_Prob,\n",
    "      Summer_Freshman_1_Prob,Summer_Freshman_2_Prob,\n",
    "      Summer_Sophomore_1_Prob,Summer_Sophomore_2_Prob,\n",
    "      Summer_Junior_1_Prob,Summer_Junior_2_Prob,\n",
    "      Summer_Senior_1_Prob, Summer_Senior_2_Prob])\n",
    "     \n",
    "\n",
    "    columns = ['Graduated_Prob','Transferred_Out_Prob','Dropped_Out_Prob',\n",
    "      'Fall_Sabbatical_Prob',\n",
    "      'Fall_Freshman_1_Prob','Fall_Freshman_2_Prob',\n",
    "      'Fall_Sophomore_1_Prob','Fall_Sophomore_2_Prob', \n",
    "      'Fall_Junior_1_Prob','Fall_Junior_2_Prob',\n",
    "      'Fall_Senior_1_Prob','Fall_Senior_2_Prob',\n",
    "      'Spring_Sabbatical_Prob',\n",
    "      'Spring_Freshman_1_Prob','Spring_Freshman_2_Prob',\n",
    "      'Spring_Sophomore_1_Prob','Spring_Sophomore_2_Prob',\n",
    "      'Spring_Junior_1_Prob','Spring_Junior_2_Prob',\n",
    "      'Spring_Senior_1_Prob', 'Spring_Senior_2_Prob',\n",
    "      'Summer_Sabbatical_Prob',\n",
    "      'Summer_Freshman_1_Prob','Summer_Freshman_2_Prob',\n",
    "      'Summer_Sophomore_1_Prob','Summer_Sophomore_2_Prob',\n",
    "      'Summer_Junior_1_Prob','Summer_Junior_2_Prob',\n",
    "      'Summer_Senior_1_Prob', 'Summer_Senior_2_Prob']\n",
    "    \n",
    "    index = ['Graduated','Transferred_Out','Dropped_Out',\n",
    "      'Fall_Sabbatical',\n",
    "      'Fall_Freshman_1','Fall_Freshman_2',\n",
    "      'Fall_Sophomore_1','Fall_Sophomore_2', \n",
    "      'Fall_Junior_1','Fall_Junior_2',\n",
    "      'Fall_Senior_1','Fall_Senior_2',\n",
    "      'Spring_Sabbatical',\n",
    "      'Spring_Freshman_1','Spring_Freshman_2',\n",
    "      'Spring_Sophomore_1','Spring_Sophomore_2',\n",
    "      'Spring_Junior_1','Spring_Junior_2',\n",
    "      'Spring_Senior_1', 'Spring_Senior_2',\n",
    "      'Summer_Sabbatical',\n",
    "      'Summer_Freshman_1','Summer_Freshman_2',\n",
    "      'Summer_Sophomore_1','Summer_Sophomore_2',\n",
    "      'Summer_Junior_1','Summer_Junior_2',\n",
    "      'Summer_Senior_1', 'Summer_Senior_2']\n",
    "    \n",
    "    # Transtion matrix is in standard form\n",
    "    transition_matrix = pd.DataFrame(tm,columns=columns,index=index)\n",
    "\n",
    "    # Transition Matrix (Assuming Transferred Out is an abosorbtion state along with Graduated and Dropped Out)\n",
    "\n",
    "    # P = [[I O]\n",
    "    #      [A B]]\n",
    "\n",
    "    return transition_matrix"
   ]
  }
 ],
 "metadata": {
  "kernelspec": {
   "display_name": "Python 3 (ipykernel)",
   "language": "python",
   "name": "python3"
  },
  "language_info": {
   "codemirror_mode": {
    "name": "ipython",
    "version": 3
   },
   "file_extension": ".py",
   "mimetype": "text/x-python",
   "name": "python",
   "nbconvert_exporter": "python",
   "pygments_lexer": "ipython3",
   "version": "3.9.7"
  }
 },
 "nbformat": 4,
 "nbformat_minor": 5
}
